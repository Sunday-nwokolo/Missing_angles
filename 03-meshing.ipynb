{
 "cells": [
  {
   "cell_type": "code",
   "execution_count": 1,
   "id": "1fded56e-dcf8-4763-8ba6-e343d8034a8d",
   "metadata": {},
   "outputs": [],
   "source": [
    "import os\n",
    "import numpy as np\n",
    "import SimpleITK as sitk\n",
    "from sitk2vtk import *\n",
    "from utils import *"
   ]
  },
  {
   "cell_type": "code",
   "execution_count": 2,
   "id": "b980ea74-8d74-469d-812e-07213b00bbea",
   "metadata": {},
   "outputs": [],
   "source": [
    "feature_angle = 120\n",
    "pass_band = 0.001\n",
    "\n",
    "material_set = {\"steel\": 1, \"porosities\": 2}"
   ]
  },
  {
   "cell_type": "code",
   "execution_count": 3,
   "id": "ed31a2e2-b1ca-4226-923c-29c4e0733df0",
   "metadata": {},
   "outputs": [
    {
     "name": "stdout",
     "output_type": "stream",
     "text": [
      "Image size: 1008 1008 980\n",
      "Image spacing: 0.009996474264487798 0.009996474264487798 0.009996474264487798\n"
     ]
    }
   ],
   "source": [
    "fname = os.path.join(base_dir, \"segmentation\", \"Segment-980.mha\")\n",
    "segmented_volume_sitk = sitk.ReadImage(fname)\n",
    "\n",
    "input_size = segmented_volume_sitk.GetSize()\n",
    "input_spacing = segmented_volume_sitk.GetSpacing()\n",
    "print(\"Image size:\", input_size[0], input_size[1], input_size[2])\n",
    "print(\"Image spacing:\", input_spacing[0], input_spacing[1], input_spacing[2])"
   ]
  },
  {
   "cell_type": "code",
   "execution_count": 4,
   "id": "5d4e7010-b177-4333-ad87-131f1545e2b8",
   "metadata": {},
   "outputs": [],
   "source": [
    "# Pad the image\n",
    "pad_filter = sitk.ConstantPadImageFilter()\n",
    "pad_filter.SetConstant (0)\n",
    "pad_filter.SetPadLowerBound ([1, 1, 1])\n",
    "pad_filter.SetPadUpperBound ([1, 1, 1])\n",
    "padded_image = pad_filter.Execute(segmented_volume_sitk)               "
   ]
  },
  {
   "cell_type": "code",
   "execution_count": 5,
   "id": "91cbaada-8764-485c-8b54-160d3ea7b03a",
   "metadata": {},
   "outputs": [],
   "source": [
    "mesh_dir = os.path.join(base_dir, \"meshes\")\n",
    "if not os.path.exists(mesh_dir):\n",
    "    os.mkdir(mesh_dir)"
   ]
  },
  {
   "cell_type": "code",
   "execution_count": 6,
   "id": "5f424882-024e-4608-9a34-c46bb419dd48",
   "metadata": {},
   "outputs": [
    {
     "name": "stdout",
     "output_type": "stream",
     "text": [
      "Process steel\n",
      "\tStart smoothing\n",
      "\tSmoothing done\n",
      "\tStart meshing\n",
      "\tMeshing done\n",
      "\tSmooth meshing\n",
      "\tSmoothing done\n",
      "Process porosities\n",
      "\tStart smoothing\n",
      "\tSmoothing done\n",
      "\tStart meshing\n",
      "\tMeshing done\n",
      "\tSmooth meshing\n",
      "\tSmoothing done\n"
     ]
    }
   ],
   "source": [
    "for label in material_set:\n",
    "    \n",
    "    print(\"Process\", label)\n",
    "    \n",
    "    threshold = material_set[label]\n",
    "\n",
    "    # Threshold the phantom\n",
    "    binary_image = (padded_image == threshold)\n",
    "\n",
    "    # Smooth the binary segmentation\n",
    "    print(\"\\tStart smoothing\")\n",
    "    smoothed_binary_image = sitk.AntiAliasBinary(binary_image)\n",
    "    del binary_image\n",
    "    print(\"\\tSmoothing done\")\n",
    "        \n",
    "    # Create a VTK image\n",
    "    vtkimg = sitk2vtk(smoothed_binary_image, centre=True)\n",
    "    del smoothed_binary_image\n",
    "    \n",
    "    print(\"\\tStart meshing\")\n",
    "    vtk_mesh, meshing_filter = extractSurface(vtkimg, 0)    \n",
    "    mesh_fname = os.path.join(mesh_dir, label + \".stl\")\n",
    "    writeSTL(vtk_mesh, mesh_fname)\n",
    "    del vtkimg\n",
    "    print(\"\\tMeshing done\")\n",
    "    \n",
    "    print(\"\\tSmooth meshing\")\n",
    "    vtk_smoothed_mesh = smoothSurface(meshing_filter, feature_angle=feature_angle, pass_band=pass_band)\n",
    "    del vtk_mesh\n",
    "    print(\"\\tSmoothing done\")\n",
    "\n",
    "    mesh_fname = os.path.join(mesh_dir, label + \"-smoothed.stl\")\n",
    "    writeSTL(vtk_smoothed_mesh, mesh_fname)\n",
    "    del vtk_smoothed_mesh"
   ]
  },
  {
   "cell_type": "code",
   "execution_count": 7,
   "id": "756a290e-8d7b-4aa8-9146-483a5b0a01f0",
   "metadata": {},
   "outputs": [
    {
     "name": "stdout",
     "output_type": "stream",
     "text": [
      "DONE\n"
     ]
    }
   ],
   "source": [
    "print(\"DONE\")"
   ]
  },
  {
   "cell_type": "code",
   "execution_count": null,
   "id": "c2effc52-1e37-421b-9f36-24a4df9170b7",
   "metadata": {},
   "outputs": [],
   "source": []
  }
 ],
 "metadata": {
  "kernelspec": {
   "display_name": "Python 3 (ipykernel)",
   "language": "python",
   "name": "python3"
  },
  "language_info": {
   "codemirror_mode": {
    "name": "ipython",
    "version": 3
   },
   "file_extension": ".py",
   "mimetype": "text/x-python",
   "name": "python",
   "nbconvert_exporter": "python",
   "pygments_lexer": "ipython3",
   "version": "3.9.18"
  }
 },
 "nbformat": 4,
 "nbformat_minor": 5
}
