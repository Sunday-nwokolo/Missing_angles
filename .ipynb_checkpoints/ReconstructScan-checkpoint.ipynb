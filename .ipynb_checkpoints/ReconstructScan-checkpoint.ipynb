{
 "cells": [
  {
   "cell_type": "markdown",
   "id": "141bbf4e-6e2d-4085-829d-95371883fd92",
   "metadata": {},
   "source": [
    "# Simulate the CT scan"
   ]
  },
  {
   "cell_type": "code",
   "execution_count": 1,
   "id": "9ff14bda-b236-4a2b-bc6e-371edf1ca3e5",
   "metadata": {},
   "outputs": [],
   "source": [
    "import os\n",
    "import matplotlib.pyplot as plt\n",
    "from JSON2gVXRDataReader import *\n",
    "\n",
    "import SimpleITK as sitk\n",
    "\n",
    "from cil.utilities.display import show_geometry\n",
    "from cil.processors import TransmissionAbsorptionConverter\n",
    "from cil.recon import FDK\n",
    "from cil.utilities.jupyter import islicer, link_islicer"
   ]
  },
  {
   "cell_type": "code",
   "execution_count": 2,
   "id": "60464d6b-c5fa-4593-989a-2c22272b7d4b",
   "metadata": {},
   "outputs": [],
   "source": [
    "current_folder = str(globals()['_dh'][0])\n",
    "data_path = \"25OctoberData/\"\n",
    "data_path = \"24NovemberData/\"\n",
    "data_path = \"5thDecemberData3/\"\n",
    "data_path =\"Newdata/\"\n",
    "simulation_JSON_fname = current_folder + \"/\" + data_path + \"/simulation.json\"\n",
    "visible_light_JSON_fname = current_folder + \"/\" + data_path + \"/visible_light.json\""
   ]
  },
  {
   "cell_type": "code",
   "execution_count": 3,
   "id": "c1e7eeff-7930-4dfc-8600-2959987fecd0",
   "metadata": {},
   "outputs": [],
   "source": [
    "def reconstructUsingTigre(JSON_fname):\n",
    "    reader = JSON2gVXRDataReader(file_name=JSON_fname)\n",
    "    data = reader.read(verbose=0)\n",
    "    data.reorder(order='tigre')\n",
    "    data_corr = TransmissionAbsorptionConverter(white_level=data.max(), min_intensity=1e-5)(data)\n",
    "    ig = data.geometry.get_ImageGeometry()\n",
    "    recons = FDK(data_corr, ig).run()\n",
    "    \n",
    "    return data, ig, recons\n",
    "\n",
    "def reconstructUsingAstra(JSON_fname):\n",
    "    reader = JSON2gVXRDataReader(file_name=JSON_fname)\n",
    "    \n",
    "    data = reader.read(verbose=0)\n",
    "    data.reorder('astra')\n",
    "    data= TransmissionAbsorptionConverter(white_level=data.max())(data)\n",
    "    ig = data.geometry.get_ImageGeometry()\n",
    "    \n",
    "    \n",
    "    recons = FBP(data, ig).run()\n",
    "    \n",
    "    return data, ig, recons\n",
    "\n",
    "\n",
    "def save(fname, recons):\n",
    "# detector_size = np.array(gvxr.getDetectorSize(\"mm\"))\n",
    "# number_of_pixels = np.array(gvxr.getDetectorNumberOfPixels())\n",
    "# spacing = detector_size / number_of_pixels\n",
    "\n",
    "# print(\"CT volume saved in\", \"recons.mha\")\n",
    "\n",
    "    reconstruction_as_array = recons.as_array()\n",
    "    sitk_image = sitk.GetImageFromArray(reconstruction_as_array)\n",
    "    # sitk_image.SetSpacing([spacing[0], spacing[0], spacing[1]])\n",
    "    sitk.WriteImage(sitk_image, fname, useCompression=True)\n"
   ]
  },
  {
   "cell_type": "code",
   "execution_count": 4,
   "id": "23b8b604-8d71-487e-930d-5a4b71abe22c",
   "metadata": {},
   "outputs": [
    {
     "name": "stdout",
     "output_type": "stream",
     "text": [
      "distance: 1.5499554944271412\n",
      "[320, 240]\n",
      "[0.45999999046325685, 0.45999999046325685]\n",
      "FDK recon\n",
      "\n",
      "Input Data:\n",
      "\tangle: 101\n",
      "\tvertical: 240\n",
      "\thorizontal: 320\n",
      "\n",
      "Reconstruction Volume:\n",
      "\tvertical: 240\n",
      "\thorizontal_y: 320\n",
      "\thorizontal_x: 320\n",
      "\n",
      "Reconstruction Options:\n",
      "\tBackend: tigre\n",
      "\tFilter: ram-lak\n",
      "\tFilter cut-off frequency: 1.0\n",
      "\tFFT order: 10\n",
      "\tFilter_inplace: False\n",
      "\n",
      "distance: 1.5499554944271412\n",
      "[320, 240]\n",
      "[0.45999999046325685, 0.45999999046325685]\n",
      "FDK recon\n",
      "\n",
      "Input Data:\n",
      "\tangle: 101\n",
      "\tvertical: 240\n",
      "\thorizontal: 320\n",
      "\n",
      "Reconstruction Volume:\n",
      "\tvertical: 240\n",
      "\thorizontal_y: 320\n",
      "\thorizontal_x: 320\n",
      "\n",
      "Reconstruction Options:\n",
      "\tBackend: tigre\n",
      "\tFilter: ram-lak\n",
      "\tFilter cut-off frequency: 1.0\n",
      "\tFFT order: 10\n",
      "\tFilter_inplace: False\n",
      "\n"
     ]
    }
   ],
   "source": [
    "simulation_data, simulation_ig, simulation_recons_tigre = reconstructUsingTigre(simulation_JSON_fname)\n",
    "visible_light_data, visible_light_ig, visible_light_recons_tigre = reconstructUsingTigre(visible_light_JSON_fname)"
   ]
  },
  {
   "cell_type": "code",
   "execution_count": 5,
   "id": "f305fc12-e994-4b17-9258-6833c2165af1",
   "metadata": {},
   "outputs": [
    {
     "ename": "NameError",
     "evalue": "name 'reconstruct' is not defined",
     "output_type": "error",
     "traceback": [
      "\u001b[1;31m---------------------------------------------------------------------------\u001b[0m",
      "\u001b[1;31mNameError\u001b[0m                                 Traceback (most recent call last)",
      "Cell \u001b[1;32mIn[5], line 1\u001b[0m\n\u001b[1;32m----> 1\u001b[0m simulation_data, simulation_ig, simulation_recons \u001b[38;5;241m=\u001b[39m \u001b[43mreconstruct\u001b[49m(simulation_JSON_fname)\n",
      "\u001b[1;31mNameError\u001b[0m: name 'reconstruct' is not defined"
     ]
    }
   ],
   "source": [
    "simulation_data, simulation_ig, simulation_recons = reconstruct(simulation_JSON_fname)"
   ]
  },
  {
   "cell_type": "code",
   "execution_count": null,
   "id": "735c1423-e46d-477c-ae18-2613c7a90150",
   "metadata": {},
   "outputs": [],
   "source": [
    "visible_light_data, visible_light_ig, visible_light_recons = reconstruct(visible_light_JSON_fname)"
   ]
  },
  {
   "cell_type": "code",
   "execution_count": null,
   "id": "1796506e-942e-47cf-9803-346f29a971b5",
   "metadata": {},
   "outputs": [],
   "source": [
    "print(simulation_data.geometry)"
   ]
  },
  {
   "cell_type": "code",
   "execution_count": null,
   "id": "72c94feb-c450-4ff0-9f41-236e926b51f3",
   "metadata": {},
   "outputs": [],
   "source": [
    "show_geometry(simulation_data.geometry).save(current_folder + \"/\" + data_path + \"/geometry.png\")"
   ]
  },
  {
   "cell_type": "code",
   "execution_count": null,
   "id": "9708a251-0c91-47f6-8067-177e630720d3",
   "metadata": {},
   "outputs": [],
   "source": [
    "sl1 = islicer(simulation_recons, direction='vertical')\n",
    "sl2 = islicer(visible_light_recons, direction='vertical')\n",
    "link_islicer(sl1, sl2)"
   ]
  },
  {
   "cell_type": "code",
   "execution_count": null,
   "id": "65b83b1e-6260-4576-9f79-85328035c8f3",
   "metadata": {},
   "outputs": [],
   "source": [
    "sl3 = islicer(simulation_recons, direction='horizontal_x')\n",
    "sl4 = islicer(visible_light_recons, direction='horizontal_x')\n",
    "link_islicer(sl3, sl4)"
   ]
  },
  {
   "cell_type": "code",
   "execution_count": null,
   "id": "3ddcc81e-a2a3-480b-9376-8a8fdf27c3d9",
   "metadata": {},
   "outputs": [],
   "source": [
    "# save(current_folder + \"/\" + data_path + \"/simulation.mha\", simulation_recons)"
   ]
  },
  {
   "cell_type": "code",
   "execution_count": null,
   "id": "ce656713-908c-483e-90b0-c6f0da82a0d8",
   "metadata": {},
   "outputs": [],
   "source": [
    "# save(current_folder + \"/\" + data_path + \"/visible_light.mha\", visible_light_recons)"
   ]
  },
  {
   "cell_type": "code",
   "execution_count": null,
   "id": "291a312a-9c02-42fc-a45c-71b318732604",
   "metadata": {},
   "outputs": [],
   "source": []
  },
  {
   "cell_type": "code",
   "execution_count": null,
   "id": "e0ff9254-13f0-4bca-8a44-aa0194901c13",
   "metadata": {},
   "outputs": [],
   "source": []
  },
  {
   "cell_type": "code",
   "execution_count": null,
   "id": "66dcb59e-5c1b-4963-8e57-468c5a2790f4",
   "metadata": {},
   "outputs": [],
   "source": []
  },
  {
   "cell_type": "code",
   "execution_count": null,
   "id": "40318962-ab8d-45dd-adc0-3a25c741084a",
   "metadata": {},
   "outputs": [],
   "source": [
    "\n"
   ]
  },
  {
   "cell_type": "code",
   "execution_count": null,
   "id": "13fe43ad-732c-4211-bdc7-2431e994a9e5",
   "metadata": {},
   "outputs": [],
   "source": []
  },
  {
   "cell_type": "code",
   "execution_count": null,
   "id": "a29e4f8d-412e-49f6-b108-f14448763a44",
   "metadata": {},
   "outputs": [],
   "source": []
  },
  {
   "cell_type": "code",
   "execution_count": null,
   "id": "bb228b2e-5732-4662-92cc-534df4c7d586",
   "metadata": {},
   "outputs": [],
   "source": []
  },
  {
   "cell_type": "code",
   "execution_count": null,
   "id": "f7441eb7-b64d-49a5-9493-8568662b97bb",
   "metadata": {},
   "outputs": [],
   "source": []
  },
  {
   "cell_type": "code",
   "execution_count": null,
   "id": "ba55d80d-af92-41ef-b084-a65cf6382aed",
   "metadata": {},
   "outputs": [],
   "source": []
  },
  {
   "cell_type": "code",
   "execution_count": null,
   "id": "10aaa3d8-6f8e-4562-bd7d-d28853aa58bd",
   "metadata": {},
   "outputs": [],
   "source": []
  },
  {
   "cell_type": "code",
   "execution_count": null,
   "id": "db9ac865-26b3-4e72-9f8a-a2f16c0b5be4",
   "metadata": {},
   "outputs": [],
   "source": []
  },
  {
   "cell_type": "code",
   "execution_count": null,
   "id": "3797669e-86e3-4dbb-99c1-f7154e096974",
   "metadata": {},
   "outputs": [],
   "source": []
  }
 ],
 "metadata": {
  "kernelspec": {
   "display_name": "Python 3 (ipykernel)",
   "language": "python",
   "name": "python3"
  },
  "language_info": {
   "codemirror_mode": {
    "name": "ipython",
    "version": 3
   },
   "file_extension": ".py",
   "mimetype": "text/x-python",
   "name": "python",
   "nbconvert_exporter": "python",
   "pygments_lexer": "ipython3",
   "version": "3.9.18"
  }
 },
 "nbformat": 4,
 "nbformat_minor": 5
}
