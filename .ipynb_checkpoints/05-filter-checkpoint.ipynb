{
 "cells": [
  {
   "cell_type": "code",
   "execution_count": 1,
   "id": "004d024b-297d-4f00-8d84-9ada902dcb04",
   "metadata": {},
   "outputs": [
    {
     "name": "stdout",
     "output_type": "stream",
     "text": [
      "xpecgen is not install, you won't be able to load a beam spectrum using xpecgen\n",
      "SimpleGVXR 2.0.7 (2023-11-06T20:30:06) [Compiler: Microsoft Visual Studio] on Windows\n",
      "gVirtualXRay core library (gvxr) 2.0.7 (2023-11-06T20:30:04) [Compiler: Microsoft Visual Studio] on Windows\n"
     ]
    }
   ],
   "source": [
    "%matplotlib inline\n",
    "\n",
    "import os, math, time, sys, shutil\n",
    "import numpy as np\n",
    "from pathlib import Path\n",
    "\n",
    "from tifffile import imread, imwrite\n",
    "# from imageio import mimwrite\n",
    "import matplotlib.pyplot as plt\n",
    "\n",
    "\n",
    "# import json\n",
    "\n",
    "from gvxrPython3 import gvxr\n",
    "#from gvxrPython3 import gvxr2json\n",
    "from gvxrPython3 import json2gvxr\n",
    "from gvxrPython3.utils import visualise, loadSpectrumSpekpy, loadSpectrumXpecgen, has_spekpy, has_xpecgen\n",
    "# from untitled import visualise, loadSpectrumSpekpy, loadSpectrumXpecgen, has_spekpy, has_xpecgen\n",
    "\n",
    "\n",
    "import utils\n",
    "from utils import *\n",
    "\n",
    "# import astra"
   ]
  },
  {
   "cell_type": "code",
   "execution_count": 2,
   "id": "326a6110-fde8-4098-a276-340ff7046ff4",
   "metadata": {},
   "outputs": [],
   "source": [
    "registration_dir = os.path.join(base_dir, \"registration\")\n",
    "\n",
    "if not os.path.exists(registration_dir):\n",
    "    os.mkdir(registration_dir)"
   ]
  },
  {
   "cell_type": "code",
   "execution_count": 3,
   "id": "11c463cc-e749-4140-b23c-21b335e2c5ee",
   "metadata": {},
   "outputs": [],
   "source": [
    "experimental_img_dir = os.path.join(base_dir, \"Tomography_01_all_proj\")\n",
    "experimental_img_paths = sorted(\n",
    "    [\n",
    "        os.path.join(experimental_img_dir, fname)\n",
    "        for fname in os.listdir(experimental_img_dir)\n",
    "        if fname.endswith(\".tif\")\n",
    "    ]\n",
    ")"
   ]
  },
  {
   "cell_type": "code",
   "execution_count": 4,
   "id": "bb9d232c-fa4d-4c1b-bd9b-2bb29b6cad6d",
   "metadata": {},
   "outputs": [],
   "source": [
    "# data = np.loadtxt(base_dir + \"/geom.csv\", \n",
    "#     delimiter=';',\n",
    "#     skiprows=2,\n",
    "#     usecols=(1,2,3,4,5,6,7,8,9,10,11,12))\n",
    "\n",
    "# new_columns = [\n",
    "#     \"source - x\",\n",
    "#     \"source - y\",\n",
    "#     \"source - z\",\n",
    "#     \"Imager Center - x\",\n",
    "#     \"Imager Center - y\",\n",
    "#     \"Imager Center - z\",\n",
    "#     \"Imager Top - x\",\n",
    "#     \"Imager Top - y\",\n",
    "#     \"Imager Top - z\",\n",
    "#     \"Imager Right - x\",\n",
    "#     \"Imager Right - y\",\n",
    "#     \"Imager Right - z\"\n",
    "# ]\n",
    "\n",
    "XraykV=120\n",
    "\n",
    "SrcToObject=77.9902725219727\n",
    "SrcToDetector=990.8258\n",
    "\n",
    "\n",
    "odd = SrcToDetector - SrcToObject\n",
    "sod = SrcToObject\n",
    "\n",
    "DetectorPixelsX=1008\n",
    "DetectorPixelsY=1008\n",
    "DetectorPixelSizeX=0.127\n",
    "DetectorPixelSizeY=0.127\n",
    "\n",
    "#AngularStep=0.227416298168035\n",
    "Projections=663\n",
    "WhiteLevel=60000\n",
    "\n",
    "N_slices = Projections\n",
    "angles = [np.linspace(0, 360, N_slices, False)]\n",
    "\n",
    "# We checked that AngularStep is equal to (angles[1] - angles[0])"
   ]
  },
  {
   "cell_type": "code",
   "execution_count": 5,
   "id": "1e5a9151-5da7-460e-8adb-bc5175d68c63",
   "metadata": {},
   "outputs": [],
   "source": [
    "# rx_shape = rx_dimy, rx_dimx\n",
    "\n",
    "# source_position = data[:,:3]\n",
    "# detector_position = data[:,3:6]\n",
    "# detector_v = (data[:,6:9] - detector_position) / rx_shape[1] * 2\n",
    "# detector_u = (data[:,9:] - detector_position) / rx_shape[0] * 2\n",
    "\n",
    "# Y = 0.5 * source_position[:,1].mean() + 0.5 * detector_position[:,1].mean()\n",
    "# source_position[:,1] -= Y\n",
    "# detector_position[:,1] -= Y\n",
    "\n",
    "# # Modify the coordinate system\n",
    "# # X -> Y\n",
    "# # Y -> Z\n",
    "# # Z -> X\n",
    "# source_position = np.roll(source_position, 1, axis=1)\n",
    "# detector_position = np.roll(detector_position, 1, axis=1)\n",
    "# detector_v = np.roll(detector_v, 1, axis=1)\n",
    "# detector_u = np.roll(detector_u, 1, axis=1)\n",
    "\n",
    "# sod = np.sum(source_position**2, axis=1)**.5\n",
    "# sdd = np.sum((source_position-detector_position)**2, axis=1)**.5\n",
    "# odd = np.sum(detector_position**2, axis=1)**.5\n",
    "\n",
    "# print(\"SOD:\", sod.mean(), \"+/-\", sod.std())\n",
    "# print(\"SDD:\", odd.mean(), \"+/-\", sdd.std())\n",
    "# print(\"ODD:\", odd.mean(), \"+/-\", odd.std())"
   ]
  },
  {
   "cell_type": "code",
   "execution_count": 6,
   "id": "ceeff404-5869-497c-9f7e-267679b46af3",
   "metadata": {},
   "outputs": [
    {
     "name": "stdout",
     "output_type": "stream",
     "text": [
      "Create an OpenGL context\n"
     ]
    }
   ],
   "source": [
    "# Create an OpenGL context\n",
    "print(\"Create an OpenGL context\")\n",
    "gvxr.createOpenGLContext();"
   ]
  },
  {
   "cell_type": "code",
   "execution_count": 7,
   "id": "f5fb55f6-1131-4a33-9b64-a14e3527b341",
   "metadata": {},
   "outputs": [],
   "source": [
    "# if has_spekpy:\n",
    "#     loadSpectrumSpekpy(XraykV, filters=None, th_in_deg=12)\n",
    "# elif has_xpecgen:\n",
    "#     loadSpectrumXpecgen(XraykV, filters=None, th_in_deg=12)\n",
    "\n",
    "# Load the spectrum\n",
    "# if has_spekpy:\n",
    "#    loadSpectrumSpekpy(XraykV, filters=None, th_in_deg=12);\n",
    "# elif has_xpecgen:\n",
    "#    loadSpectrumXpecgen(XraykV, filters=None, th_in_deg=12);\n",
    "# else:\n",
    "#     raise Error(\"You must install either Spekpy or Xpecgen\");"
   ]
  },
  {
   "cell_type": "code",
   "execution_count": 8,
   "id": "b55f5121-ba17-4705-95a9-5882848b4eb9",
   "metadata": {},
   "outputs": [],
   "source": [
    "if has_spekpy:\n",
    "    loadSpectrumSpekpy(XraykV, filters=None, th_in_deg=12)\n",
    "elif has_xpecgen:\n",
    "    loadSpectrumXpecgen(XraykV, filters=None, th_in_deg=12)"
   ]
  },
  {
   "cell_type": "code",
   "execution_count": 9,
   "id": "e32d4d97-4d46-4327-bde0-9f5b32837f18",
   "metadata": {},
   "outputs": [
    {
     "name": "stdout",
     "output_type": "stream",
     "text": [
      "Bounding box: (-2.602853298187256, -2.5947957038879395, -4.908654689788818, 2.602853298187256, 2.5947957038879395, 4.908654689788818) mm\n",
      "Dimensions: 5.205706596374512 5.189591407775879 9.817309379577637 mm\n"
     ]
    }
   ],
   "source": [
    "mesh_dir = os.path.join(base_dir, \"meshes\")\n",
    "\n",
    "\n",
    "gvxr.removePolygonMeshesFromSceneGraph()\n",
    "\n",
    "for label in [\"steel-smoothed\"]:\n",
    "    mesh_fname = os.path.join(mesh_dir, label + \".stl\")\n",
    "    gvxr.loadMeshFile(label, mesh_fname, \"mm\")\n",
    "\n",
    "gvxr.setMixture(\"steel-smoothed\",\n",
    "                utils.elements,\n",
    "                utils.default_weights) # Aluminium 2024\n",
    "\n",
    "\n",
    "gvxr.setDensity(\"steel-smoothed\", default_density, \"g/cm3\")\n",
    "gvxr.setColour(\"steel-smoothed\", 132/255, 135/255, 137/255, 1.0)\n",
    "\n",
    "\n",
    "bbox_in_mm = gvxr.getNodeAndChildrenBoundingBox(\"steel-smoothed\", \"mm\")\n",
    "\n",
    "\n",
    "for label in [\"steel-smoothed\"]:\n",
    "    # gvxr.scaleNode(label, -1, 1, 1)\n",
    "\n",
    "    gvxr.translateNode(label,\n",
    "                       -bbox_in_mm[0] - (bbox_in_mm[3] - bbox_in_mm[0]) / 2.0,\n",
    "                       -bbox_in_mm[1] - (bbox_in_mm[4] - bbox_in_mm[1]) / 2.0,\n",
    "                       -bbox_in_mm[2] - (bbox_in_mm[5] - bbox_in_mm[2]) / 2.0,\n",
    "                       \"mm\"\n",
    "                      )\n",
    "    \n",
    "    # gvxr.invertNormalVectors(\"label\")\n",
    "\n",
    "bbox_in_mm = gvxr.getNodeAndChildrenBoundingBox(\"steel-smoothed\", \"mm\")\n",
    "\n",
    "print(\"Bounding box:\", bbox_in_mm, \"mm\")\n",
    "print(\"Dimensions:\", bbox_in_mm[3] - bbox_in_mm[0], bbox_in_mm[4] - bbox_in_mm[1], bbox_in_mm[5] - bbox_in_mm[2], \"mm\")"
   ]
  },
  {
   "cell_type": "code",
   "execution_count": 10,
   "id": "930800de-dde2-4463-9e7b-6f700fdb2572",
   "metadata": {},
   "outputs": [],
   "source": [
    "gvxr.setMonoChromatic(98, \"keV\", 15000);\n",
    "gvxr.usePointSource();"
   ]
  },
  {
   "cell_type": "code",
   "execution_count": 11,
   "id": "98066ec7",
   "metadata": {},
   "outputs": [],
   "source": [
    "# Load the result of the registration\n",
    "x_fname       = os.path.join(registration_dir, \"x_best3.dat\")\n",
    "utils.x_current = np.loadtxt(x_fname)"
   ]
  },
  {
   "cell_type": "code",
   "execution_count": 12,
   "id": "2feb9fbf-b5d0-4368-9fae-941b782b610c",
   "metadata": {},
   "outputs": [],
   "source": [
    "#downscale = 2\n",
    "downscale = 8\n",
    "gvxr.setDetectorNumberOfPixels(round(DetectorPixelsX / downscale), round(DetectorPixelsY / downscale));\n",
    "gvxr.setDetectorPixelSize(DetectorPixelSizeX * downscale, DetectorPixelSizeY * downscale, \"mm\");\n",
    "gvxr.setScintillator(\"Gd2O2S\", 210, \"um\")"
   ]
  },
  {
   "cell_type": "code",
   "execution_count": 13,
   "id": "df5f1638-5e44-4d52-b08b-34850e03af4a",
   "metadata": {},
   "outputs": [],
   "source": [
    "# src_pos = source_position[0]\n",
    "# det_pos = detector_position[0]\n",
    "# u = detector_u[0]\n",
    "# u /= np.sum(u**2)**.5\n",
    "# v = detector_v[0]\n",
    "# v /= np.sum(v**2)**.5\n",
    "\n",
    "# print(\"Source position:\", src_pos, \"mm\")\n",
    "# print(\"Detector position:\", det_pos, \"mm\")\n",
    "# print(\"Detector U:\", u)\n",
    "# print(\"Detector V:\", v)\n",
    "\n",
    "# gvxr.setDetectorPosition(det_pos[0], det_pos[1], det_pos[2], \"mm\");\n",
    "# gvxr.setDetectorUpVector(v[0], v[1], v[2]);\n",
    "# gvxr.setDetectorRightVector(u[0], u[1], u[2]);\n",
    "\n",
    "# gvxr.setSourcePosition(src_pos[0], src_pos[1], src_pos[2], \"mm\");\n",
    "\n",
    "\n",
    "gvxr.autoAlignDetector(True)\n",
    "gvxr.setDetectorPosition(0, -odd, 0, \"mm\");\n",
    "gvxr.setDetectorUpVector(0, 0, -1);\n",
    "# gvxr.setDetectorRightVector(u[0], u[1], u[2]);\n",
    "\n",
    "gvxr.setSourcePosition(0, sod, 0, \"mm\");\n",
    "\n",
    "\n",
    "# Compute an X-ray image\n",
    "# We convert the array in a Numpy structure and store the data using single-precision floating-point numbers.\n",
    "x_ray_image = np.array(gvxr.computeXRayImage()).astype(np.single)\n",
    "\n",
    "# Update the visualisation window\n",
    "gvxr.displayScene()\n",
    "gvxr.setZoom(1220)\n",
    "gvxr.setSceneRotationMatrix((0.7875528931617737, -0.019898230209946632, 0.6159240007400513, 0.0, 0.6153900027275085, 0.07806847244501114, -0.7843458652496338, 0.0, -0.03247729688882828, 0.9967493414878845, 0.07372806966304779, 0.0, 0.0, 0.0, 0.0, 1.0))\n",
    "gvxr.displayScene()\n",
    "# gvxr.renderLoop()"
   ]
  },
  {
   "cell_type": "code",
   "execution_count": 14,
   "id": "f7a591f0-90c4-4f96-8e16-8fc83bbc5f14",
   "metadata": {
    "tags": []
   },
   "outputs": [],
   "source": [
    "downscale = 8\n",
    "utils.ref_image, utils.selected_angles, utils.indices = getReference(experimental_img_paths, \n",
    "                                                                     angles, \n",
    "                                                                     1, \n",
    "                                                                     WhiteLevel,\n",
    "                                                                     downscale);"
   ]
  },
  {
   "cell_type": "code",
   "execution_count": 15,
   "id": "4f982880-74ac-4358-9dfc-ca569d9d0345",
   "metadata": {},
   "outputs": [],
   "source": [
    "#print(utils.x_current)\n",
    "# Flatten selected_angles if needed\n",
    "if len(utils.selected_angles.shape) > 1:\n",
    "    utils.selected_angles = utils.selected_angles[0]"
   ]
  },
  {
   "cell_type": "code",
   "execution_count": 16,
   "id": "70e19bad-235b-40a4-8833-0d759ebfc571",
   "metadata": {
    "tags": []
   },
   "outputs": [
    {
     "data": {
      "image/png": "[encoded data removed]",
      "text/plain": [
       "<Figure size 1500x2100 with 4 Axes>"
      ]
     },
     "metadata": {},
     "output_type": "display_data"
    }
   ],
   "source": [
    "utils.figsize = (15, 21)\n",
    "displayResult(utils.x_current, figsize=utils.figsize, fname=None, crop=True)"
   ]
  },
  {
   "cell_type": "code",
   "execution_count": 19,
   "id": "c2538ab5",
   "metadata": {},
   "outputs": [],
   "source": [
    "# List all the common filters as a Python dictionary\n",
    " \n",
    "filter_set = {\n",
    "    \"Cu\": [0.1, 0.25, 0.5, 1.0, 1.5, 2.0, 2.5],\n",
    "    \"Al\": [0.1, 0.25, 0.5, 1.0, 1.5, 2.0, 2.5],\n",
    "    \"Sn\": [0.1, 0.25, 0.5, 1.0],\n",
    "    \"Ag\": [0.125, 0.25, 1.0]\n",
    "};"
   ]
  },
  {
   "cell_type": "code",
   "execution_count": 22,
   "id": "47cbcc20-9203-4fc5-8f78-6f885962c00e",
   "metadata": {},
   "outputs": [
    {
     "ename": "AttributeError",
     "evalue": "module 'utils' has no attribute 'has_spekpy'",
     "output_type": "error",
     "traceback": [
      "\u001b[1;31m---------------------------------------------------------------------------\u001b[0m",
      "\u001b[1;31mAttributeError\u001b[0m                            Traceback (most recent call last)",
      "Cell \u001b[1;32mIn[22], line 9\u001b[0m\n\u001b[0;32m      6\u001b[0m \u001b[38;5;28;01mfor\u001b[39;00m material \u001b[38;5;129;01min\u001b[39;00m filter_set\u001b[38;5;241m.\u001b[39mkeys():\n\u001b[0;32m      7\u001b[0m     \u001b[38;5;28;01mfor\u001b[39;00m thickness \u001b[38;5;129;01min\u001b[39;00m filter_set[material]:\n\u001b[0;32m      8\u001b[0m         \u001b[38;5;66;03m# Update filter\u001b[39;00m\n\u001b[1;32m----> 9\u001b[0m         \u001b[38;5;28;01mif\u001b[39;00m \u001b[43mutils\u001b[49m\u001b[38;5;241;43m.\u001b[39;49m\u001b[43mhas_spekpy\u001b[49m:\n\u001b[0;32m     10\u001b[0m             utils\u001b[38;5;241m.\u001b[39mloadSpectrumSpekpy(utils\u001b[38;5;241m.\u001b[39mXraykV, filters\u001b[38;5;241m=\u001b[39m[[material, thickness, \u001b[38;5;124m\"\u001b[39m\u001b[38;5;124mmm\u001b[39m\u001b[38;5;124m\"\u001b[39m]], th_in_deg\u001b[38;5;241m=\u001b[39m\u001b[38;5;241m12\u001b[39m)\n\u001b[0;32m     11\u001b[0m         \u001b[38;5;28;01melif\u001b[39;00m utils\u001b[38;5;241m.\u001b[39mhas_xpecgen:\n",
      "\u001b[1;31mAttributeError\u001b[0m: module 'utils' has no attribute 'has_spekpy'"
     ]
    }
   ],
   "source": [
    "smallest_error = sys.float_info.max\n",
    "selected_material = None\n",
    "selected_thickness = None\n",
    "\n",
    "# Loop through the filter set to find the best filter\n",
    "for material in filter_set.keys():\n",
    "    for thickness in filter_set[material]:\n",
    "        # Update filter\n",
    "            if has_spekpy:\n",
    "                loadSpectrumSpekpy(XraykV, filters=[[material, thickness, \"mm\"]], th_in_deg=12)\n",
    "            elif has_xpecgen:\n",
    "                loadSpectrumXpecgen(XraykV, filters=[[material, thickness, \"mm\"]], th_in_deg=12)\n",
    "\n",
    "        # Compute fitnessRMSE\n",
    "        rmse = utils.fitnessRMSE(utils.x_current)\n",
    "        \n",
    "        if smallest_error > rmse:\n",
    "            smallest_error = rmse\n",
    "            selected_material = material\n",
    "            selected_thickness = thickness\n",
    "\n",
    "print(\"Filter used:\", selected_thickness, \"mm of\", selected_material)"
   ]
  },
  {
   "cell_type": "code",
   "execution_count": 21,
   "id": "cf921d4e",
   "metadata": {},
   "outputs": [
    {
     "ename": "NameError",
     "evalue": "name 'best_fitness' is not defined",
     "output_type": "error",
     "traceback": [
      "\u001b[1;31m---------------------------------------------------------------------------\u001b[0m",
      "\u001b[1;31mNameError\u001b[0m                                 Traceback (most recent call last)",
      "Cell \u001b[1;32mIn[21], line 16\u001b[0m\n\u001b[0;32m     12\u001b[0m     loadSpectrumXpecgen(XraykV, filters\u001b[38;5;241m=\u001b[39m[[material, thickness, \u001b[38;5;124m\"\u001b[39m\u001b[38;5;124mmm\u001b[39m\u001b[38;5;124m\"\u001b[39m]], th_in_deg\u001b[38;5;241m=\u001b[39m\u001b[38;5;241m12\u001b[39m)\n\u001b[0;32m     15\u001b[0m \u001b[38;5;66;03m# Compute fitnessRMSE\u001b[39;00m\n\u001b[1;32m---> 16\u001b[0m rmse \u001b[38;5;241m=\u001b[39m \u001b[43mfitnessRMSE\u001b[49m\u001b[43m(\u001b[49m\u001b[43mutils\u001b[49m\u001b[38;5;241;43m.\u001b[39;49m\u001b[43mx_current\u001b[49m\u001b[43m)\u001b[49m;\n\u001b[0;32m     18\u001b[0m \u001b[38;5;28;01mif\u001b[39;00m smallest_error \u001b[38;5;241m>\u001b[39m rmse:\n\u001b[0;32m     19\u001b[0m     smallest_error \u001b[38;5;241m>\u001b[39m rmse\n",
      "File \u001b[1;32m~\\Missing_angles\\utils.py:367\u001b[0m, in \u001b[0;36mfitnessRMSE\u001b[1;34m(x)\u001b[0m\n\u001b[0;32m    363\u001b[0m     fitness_value \u001b[38;5;241m+\u001b[39m\u001b[38;5;241m=\u001b[39m compareRMSE(ref, test)\n\u001b[0;32m    365\u001b[0m fitness_value \u001b[38;5;241m/\u001b[39m\u001b[38;5;241m=\u001b[39m ref_image\u001b[38;5;241m.\u001b[39mshape[\u001b[38;5;241m0\u001b[39m]\n\u001b[1;32m--> 367\u001b[0m \u001b[38;5;28;01mif\u001b[39;00m \u001b[43mbest_fitness\u001b[49m \u001b[38;5;241m>\u001b[39m fitness_value:\n\u001b[0;32m    368\u001b[0m     fitness_set\u001b[38;5;241m.\u001b[39mappend([counter, fitness_value])\n\u001b[0;32m    369\u001b[0m     best_fitness \u001b[38;5;241m=\u001b[39m fitness_value\n",
      "\u001b[1;31mNameError\u001b[0m: name 'best_fitness' is not defined"
     ]
    }
   ],
   "source": [
    "import sys\n",
    "\n",
    "smallest_error = sys.float_info.max;\n",
    "\n",
    "for material in filter_set.keys():\n",
    "    for thickness in filter_set[material]:\n",
    "\n",
    "        # Update filter\n",
    "        if has_spekpy:\n",
    "            loadSpectrumSpekpy(XraykV, filters=[[material, thickness, \"mm\"]], th_in_deg=12)\n",
    "        elif has_xpecgen:\n",
    "            loadSpectrumXpecgen(XraykV, filters=[[material, thickness, \"mm\"]], th_in_deg=12)\n",
    "\n",
    "\n",
    "        # Compute fitnessRMSE\n",
    "        rmse = fitnessRMSE(utils.x_current);\n",
    "\n",
    "        if smallest_error > rmse:\n",
    "            smallest_error > rmse\n",
    "            selected_material = material\n",
    "            selected_thickness = thickness\n",
    "\n",
    "print(\"Filter used:\", selected_thickness, \"mm of\", selected_material)"
   ]
  },
  {
   "cell_type": "code",
   "execution_count": null,
   "id": "eab8bd1d",
   "metadata": {},
   "outputs": [],
   "source": [
    "#Update filter\n",
    "if has_spekpy:\n",
    "    loadSpectrumSpekpy(XraykV, filters=[[selected_material, selected_thickness, \"mm\"]], th_in_deg=12)\n",
    "elif has_xpecgen:\n",
    "    loadSpectrumXpecgen(XraykV, filters=[[selected_material, selected_thickness, \"mm\"]], th_in_deg=12)\n"
   ]
  },
  {
   "cell_type": "code",
   "execution_count": null,
   "id": "7ee93278",
   "metadata": {},
   "outputs": [],
   "source": [
    "utils.figsize = (15, 21)\n",
    "displayResult(x_default, figsize=utils.figsize, fname=None, crop=True)"
   ]
  },
  {
   "cell_type": "code",
   "execution_count": null,
   "id": "b4a657d2",
   "metadata": {},
   "outputs": [],
   "source": []
  },
  {
   "cell_type": "code",
   "execution_count": null,
   "id": "cdddde99",
   "metadata": {},
   "outputs": [],
   "source": []
  },
  {
   "cell_type": "code",
   "execution_count": null,
   "id": "6c7e2835-dbc7-44be-a3f0-3a6f638a1721",
   "metadata": {},
   "outputs": [],
   "source": [
    "gvxr.terminate()"
   ]
  },
  {
   "cell_type": "code",
   "execution_count": null,
   "id": "529f445f-fcee-4af9-95f4-4c763d7878bf",
   "metadata": {},
   "outputs": [],
   "source": []
  }
 ],
 "metadata": {
  "kernelspec": {
   "display_name": "Python 3 (ipykernel)",
   "language": "python",
   "name": "python3"
  },
  "language_info": {
   "codemirror_mode": {
    "name": "ipython",
    "version": 3
   },
   "file_extension": ".py",
   "mimetype": "text/x-python",
   "name": "python",
   "nbconvert_exporter": "python",
   "pygments_lexer": "ipython3",
   "version": "3.9.18"
  }
 },
 "nbformat": 4,
 "nbformat_minor": 5
}
